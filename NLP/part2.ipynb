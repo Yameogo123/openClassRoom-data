{
 "cells": [
  {
   "cell_type": "code",
   "execution_count": 42,
   "metadata": {},
   "outputs": [],
   "source": [
    "import pandas as pd\n",
    "import numpy as np\n",
    "from sklearn.feature_extraction.text import CountVectorizer\n",
    "import spacy\n",
    "from sklearn.preprocessing import LabelEncoder\n",
    "from sklearn.naive_bayes import MultinomialNB\n",
    "from sklearn.metrics import accuracy_score\n",
    "from sklearn.svm import SVC\n",
    "from sklearn.linear_model import LogisticRegression, Ridge, Lasso\n",
    "from sklearn.model_selection import train_test_split\n",
    "nlp= spacy.load(\"en_core_web_sm\")"
   ]
  },
  {
   "cell_type": "code",
   "execution_count": 2,
   "metadata": {},
   "outputs": [
    {
     "name": "stdout",
     "output_type": "stream",
     "text": [
      "humor              1052\n",
      "science_fiction     948\n",
      "Name: topic, dtype: int64\n"
     ]
    }
   ],
   "source": [
    "url = \"https://raw.githubusercontent.com/alexisperrier/intro2nlp/master/data/brown_corpus_extract_humor_science_fiction.csv\"\n",
    "df = pd.read_csv(url)\n",
    "print(df.topic.value_counts())"
   ]
  },
  {
   "cell_type": "code",
   "execution_count": 7,
   "metadata": {},
   "outputs": [],
   "source": [
    "def lemma(text):\n",
    "    doc=nlp(text)\n",
    "    rs = [txt.lemma_.lower() for txt in doc if not (txt.is_stop or txt.is_punct) ]\n",
    "    return \" \".join(rs)"
   ]
  },
  {
   "cell_type": "code",
   "execution_count": 11,
   "metadata": {},
   "outputs": [],
   "source": [
    "df[\"txt\"]= df.text.apply(lemma)"
   ]
  },
  {
   "cell_type": "code",
   "execution_count": 12,
   "metadata": {},
   "outputs": [
    {
     "data": {
      "text/html": [
       "<div>\n",
       "<style scoped>\n",
       "    .dataframe tbody tr th:only-of-type {\n",
       "        vertical-align: middle;\n",
       "    }\n",
       "\n",
       "    .dataframe tbody tr th {\n",
       "        vertical-align: top;\n",
       "    }\n",
       "\n",
       "    .dataframe thead th {\n",
       "        text-align: right;\n",
       "    }\n",
       "</style>\n",
       "<table border=\"1\" class=\"dataframe\">\n",
       "  <thead>\n",
       "    <tr style=\"text-align: right;\">\n",
       "      <th></th>\n",
       "      <th>topic</th>\n",
       "      <th>text</th>\n",
       "      <th>txt</th>\n",
       "    </tr>\n",
       "  </thead>\n",
       "  <tbody>\n",
       "    <tr>\n",
       "      <th>0</th>\n",
       "      <td>humor</td>\n",
       "      <td>They were always leaping to light cigarettes, ...</td>\n",
       "      <td>leap light cigarette open car door fill plate ...</td>\n",
       "    </tr>\n",
       "    <tr>\n",
       "      <th>1</th>\n",
       "      <td>science_fiction</td>\n",
       "      <td>No, the fish could eat their bodies for all th...</td>\n",
       "      <td>fish eat body sturch care</td>\n",
       "    </tr>\n",
       "    <tr>\n",
       "      <th>2</th>\n",
       "      <td>science_fiction</td>\n",
       "      <td>Fighting pleasure itself, he begged B'dikkat t...</td>\n",
       "      <td>fighting pleasure beg b'dikkat check record te...</td>\n",
       "    </tr>\n",
       "    <tr>\n",
       "      <th>3</th>\n",
       "      <td>science_fiction</td>\n",
       "      <td>that is all I can tell you about them.</td>\n",
       "      <td>tell</td>\n",
       "    </tr>\n",
       "    <tr>\n",
       "      <th>4</th>\n",
       "      <td>humor</td>\n",
       "      <td>That's one thing I've never done  , she said p...</td>\n",
       "      <td>thing   say promptly</td>\n",
       "    </tr>\n",
       "    <tr>\n",
       "      <th>...</th>\n",
       "      <td>...</td>\n",
       "      <td>...</td>\n",
       "      <td>...</td>\n",
       "    </tr>\n",
       "    <tr>\n",
       "      <th>1995</th>\n",
       "      <td>humor</td>\n",
       "      <td>A news item described the launching of a ship ...</td>\n",
       "      <td>news item describe launching ship    complete ...</td>\n",
       "    </tr>\n",
       "    <tr>\n",
       "      <th>1996</th>\n",
       "      <td>science_fiction</td>\n",
       "      <td>Time stood still for these people, and their l...</td>\n",
       "      <td>time stand people load pleasure commingled sho...</td>\n",
       "    </tr>\n",
       "    <tr>\n",
       "      <th>1997</th>\n",
       "      <td>science_fiction</td>\n",
       "      <td>What shall we do with this one??</td>\n",
       "      <td>shall</td>\n",
       "    </tr>\n",
       "    <tr>\n",
       "      <th>1998</th>\n",
       "      <td>science_fiction</td>\n",
       "      <td>But, from our reading of the Western Talmud, w...</td>\n",
       "      <td>reading western talmud urielite believe foreru...</td>\n",
       "    </tr>\n",
       "    <tr>\n",
       "      <th>1999</th>\n",
       "      <td>science_fiction</td>\n",
       "      <td>The Lady Da forced the foremost of her bodies ...</td>\n",
       "      <td>lady da force foremost body upright position</td>\n",
       "    </tr>\n",
       "  </tbody>\n",
       "</table>\n",
       "<p>2000 rows × 3 columns</p>\n",
       "</div>"
      ],
      "text/plain": [
       "                topic                                               text  \\\n",
       "0               humor  They were always leaping to light cigarettes, ...   \n",
       "1     science_fiction  No, the fish could eat their bodies for all th...   \n",
       "2     science_fiction  Fighting pleasure itself, he begged B'dikkat t...   \n",
       "3     science_fiction             that is all I can tell you about them.   \n",
       "4               humor  That's one thing I've never done  , she said p...   \n",
       "...               ...                                                ...   \n",
       "1995            humor  A news item described the launching of a ship ...   \n",
       "1996  science_fiction  Time stood still for these people, and their l...   \n",
       "1997  science_fiction                   What shall we do with this one??   \n",
       "1998  science_fiction  But, from our reading of the Western Talmud, w...   \n",
       "1999  science_fiction  The Lady Da forced the foremost of her bodies ...   \n",
       "\n",
       "                                                    txt  \n",
       "0     leap light cigarette open car door fill plate ...  \n",
       "1                             fish eat body sturch care  \n",
       "2     fighting pleasure beg b'dikkat check record te...  \n",
       "3                                                  tell  \n",
       "4                                  thing   say promptly  \n",
       "...                                                 ...  \n",
       "1995  news item describe launching ship    complete ...  \n",
       "1996  time stand people load pleasure commingled sho...  \n",
       "1997                                              shall  \n",
       "1998  reading western talmud urielite believe foreru...  \n",
       "1999       lady da force foremost body upright position  \n",
       "\n",
       "[2000 rows x 3 columns]"
      ]
     },
     "execution_count": 12,
     "metadata": {},
     "output_type": "execute_result"
    }
   ],
   "source": [
    "df"
   ]
  },
  {
   "cell_type": "code",
   "execution_count": 14,
   "metadata": {},
   "outputs": [],
   "source": [
    "lb=LabelEncoder()\n",
    "cv= CountVectorizer()"
   ]
  },
  {
   "cell_type": "code",
   "execution_count": 21,
   "metadata": {},
   "outputs": [],
   "source": [
    "fitlb= lb.fit(df.topic.values)\n",
    "y= fitlb.transform(df.topic.values)\n",
    "x= cv.fit_transform(df.txt)"
   ]
  },
  {
   "cell_type": "code",
   "execution_count": 37,
   "metadata": {},
   "outputs": [],
   "source": [
    "xtrain, xtest, ytrain, ytest= train_test_split(x, y, test_size=0.35)"
   ]
  },
  {
   "cell_type": "code",
   "execution_count": 38,
   "metadata": {},
   "outputs": [],
   "source": [
    "mn=MultinomialNB()\n",
    "\n",
    "mn.fit(xtrain, ytrain)\n",
    "\n",
    "yhat= mn.predict(xtest)"
   ]
  },
  {
   "cell_type": "code",
   "execution_count": 40,
   "metadata": {},
   "outputs": [
    {
     "data": {
      "text/plain": [
       "0.7642857142857142"
      ]
     },
     "execution_count": 40,
     "metadata": {},
     "output_type": "execute_result"
    }
   ],
   "source": [
    "acc=accuracy_score(ytest, yhat)\n",
    "acc"
   ]
  },
  {
   "cell_type": "code",
   "execution_count": 41,
   "metadata": {},
   "outputs": [
    {
     "data": {
      "text/plain": [
       "0.7042857142857143"
      ]
     },
     "execution_count": 41,
     "metadata": {},
     "output_type": "execute_result"
    }
   ],
   "source": [
    "svc= SVC()\n",
    "svc.fit(xtrain, ytrain)\n",
    "yh= svc.predict(xtest)\n",
    "\n",
    "acc2= accuracy_score(ytest, yh)\n",
    "acc2"
   ]
  },
  {
   "cell_type": "code",
   "execution_count": 43,
   "metadata": {},
   "outputs": [
    {
     "data": {
      "text/plain": [
       "0.7728571428571429"
      ]
     },
     "execution_count": 43,
     "metadata": {},
     "output_type": "execute_result"
    }
   ],
   "source": [
    "lr = LogisticRegression()\n",
    "lr.fit(xtrain, ytrain)\n",
    "yh = lr.predict(xtest)\n",
    "\n",
    "accuracy_score(ytest, yh)\n"
   ]
  }
 ],
 "metadata": {
  "kernelspec": {
   "display_name": "Python 3",
   "language": "python",
   "name": "python3"
  },
  "language_info": {
   "codemirror_mode": {
    "name": "ipython",
    "version": 3
   },
   "file_extension": ".py",
   "mimetype": "text/x-python",
   "name": "python",
   "nbconvert_exporter": "python",
   "pygments_lexer": "ipython3",
   "version": "3.10.5 (tags/v3.10.5:f377153, Jun  6 2022, 16:14:13) [MSC v.1929 64 bit (AMD64)]"
  },
  "orig_nbformat": 4,
  "vscode": {
   "interpreter": {
    "hash": "369f2c481f4da34e4445cda3fffd2e751bd1c4d706f27375911949ba6bb62e1c"
   }
  }
 },
 "nbformat": 4,
 "nbformat_minor": 2
}
